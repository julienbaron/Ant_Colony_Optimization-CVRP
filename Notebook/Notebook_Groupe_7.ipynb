{
 "cells": [
  {
   "cell_type": "markdown",
   "metadata": {},
   "source": [
    "# NOTEBOOK"
   ]
  },
  {
   "cell_type": "markdown",
   "metadata": {},
   "source": [
    "## Table des matières\n",
    "\n",
    "* [1. Modélisation du problème algorithmique](#Modelisation)\n",
    "    * [1.1 Reformulation du besoin](#reformulation)\n",
    "    * [1.2 Définition mathématique du problème](#def_math)\n",
    "    * [1.3 Etude de complexité du problème](#etude_complexite)\n",
    "* [2. Modélisation algorithmique](#modelisation_algo)\n",
    "    * [2.1. La description de l’algorithme utilisé (la métaheuristique choisie et la modélisation du problème selon le formalisme de cette métaheuristique)](#description_algo)\n",
    "    * [2.2 Implémentation du modèle en Python](#implement_modele)\n",
    "        * [2.2.1 Génération aléatoire des données](#generation_donnees)\n",
    "* [3. Implémentation algorithme ACO](#implement_algo)\n",
    "* [4. Analyse prédictive du trafic routier](#analyse_predictive)\n",
    "* [5. Étude statistique](#etude_stat)\n",
    "    * [5.1 Statistiques descriptives](#stat_descriptive)\n",
    "        * [5.1.1 Statistiques du coût des routes](#stats_cout)\n",
    "        * [5.1.2 Statistiques des demandes des clients](#stats_demandes)\n",
    "    * [5.2 Etude des paramètres](#etude_param)\n",
    "        * [5.2.1 Paramètres de l'instance du problème](#param_instance)\n",
    "        * [5.2.2 Paramètres de l'algorithme](#param_algo)\n",
    "* [6. Analyse des résultats](#analyse_result)\n",
    "    * [6.1. Performance de l'algorithme](#perform_algo)\n",
    "    * [6.2. Temps de convergence / nombre d'itérations](#temps_convergence)\n",
    "* [7. Limites](#limites)\n",
    "* [8. Conclusion](#conclusion)\n"
   ]
  },
  {
   "cell_type": "markdown",
   "metadata": {},
   "source": [
    "## 1. Modélisation du problème algorithmique <a class=\"anchor\" id=\"Modelisation\"></a>"
   ]
  },
  {
   "cell_type": "markdown",
   "metadata": {},
   "source": [
    "### 1.1 Reformulation du besoin <a class=\"anchor\" id=\"reformulation\"></a>"
   ]
  },
  {
   "cell_type": "markdown",
   "metadata": {},
   "source": [
    "Notre entreprise CesiCDP a répondu à un appel à manifestation d’intérêt pour promouvoir la réalisation de démonstrateurs et d’expérimentations de nouvelles solutions de mobilité pour les personnes et les marchandises adaptées à différents types de territoires formulé par l'ADEME.\n",
    "\n",
    "L'objectif de cette réponse est de limiter les coûts économiques et environnementaux de déplacement de nos camions en remodélisant leurs tournées. Chaque tournée consiste à emprunter un réseau routier afin de lier entre elles un sous-ensemble de villes.\n",
    "\n",
    "L'objectif est d'optimiser les tournées de telle manière à ce que la durée totale de celles-ci soit minimale.\n",
    "\n",
    "Nos tournées devront prendre en compte le trafic routier selon les différentes tranches horaires. En plus de cela, nous tiendrons compte de la capacité tridimensionnelle de nos camions vis-à-vis de l'encombrement des objets.\n",
    "\n",
    "Le problème de tournée s'apparente au problème du VRP (Vehicles Routing Problem). Néanmoins, étant donné que nous rajoutons une contrainte à celui-ci, à savoir la capacité des camions, le problème global s'apparente plutôt à la variante du problème qu'est le CVRP (Capacitated Vehicles Routing Problem), qui ajoute une contrainte de capacité aux camions. \n",
    "L'ajout de cette contrainte nous semble intuitive, car dans un cas concret, les camions comporteront tous une capacité de stockage."
   ]
  },
  {
   "cell_type": "markdown",
   "metadata": {},
   "source": [
    "### 1.2 Définition mathématique du problème <a class=\"anchor\" id=\"def_math\"></a>"
   ]
  },
  {
   "cell_type": "markdown",
   "metadata": {},
   "source": [
    "En considérant $n$ le nombre de villes, $m$ le nombre de camion, $Q$ la capacité de ces camions, $q_i$ la demande du client $i$, et $c_{ij}$ le coût de l'arête entre les sommets $i$ et $j$ (temps de parcours).\n",
    "\n",
    "Les variables de décision du problème sont $x_{ijk}$: \n",
    "$$\n",
    "x_{ijk} = \\left\\{\n",
    "    \\begin{array}{ll}\n",
    "        1 & \\mbox{si } (i,j) \\mbox{ est parcouru par le véhicule k}  \\\\\n",
    "        0 & \\mbox{sinon.}\n",
    "    \\end{array}\n",
    "\\right.\n",
    "$$\n",
    "\n",
    "Ainsi, en tant que problème d'optimisation, le problème s'écrit:"
   ]
  },
  {
   "cell_type": "markdown",
   "metadata": {},
   "source": [
    "$$min\\sum_{i=1}^{n} \\sum_{j=1}^{n} c_{ij} \\sum_{K=1}^{m} x_{ijk}$$"
   ]
  },
  {
   "cell_type": "markdown",
   "metadata": {},
   "source": [
    "On cherche à minimiser cette fonction afin qu'elle soit la plus prôche possible de 0. Ce problème vise à minimiser la somme du coût des arêtes empruntées.\n",
    "\n",
    "Le problème est sujet aux contraintes suivantes:"
   ]
  },
  {
   "cell_type": "markdown",
   "metadata": {},
   "source": [
    "$$\\sum_{i=1}^{n} \\sum_{k=1}^{m} x_{ijk} = 1\\quad\\forall 1 \\leq j \\leq n$$"
   ]
  },
  {
   "cell_type": "markdown",
   "metadata": {},
   "source": [
    "$$\\sum_{j=1}^{n} \\sum_{k=1}^{m} x_{ijk} = 1\\quad\\forall 1 \\leq i \\leq n$$"
   ]
  },
  {
   "cell_type": "markdown",
   "metadata": {},
   "source": [
    "Ces contraintes nous imposent que chaque client soit desservi une et une seule fois. En effet on impose dans un premier temps que chaque sommet ne soit accédé que par un sommet, puis dans un second temps que chaque sommet n'accède qu'à un seul autre sommet."
   ]
  },
  {
   "cell_type": "markdown",
   "metadata": {},
   "source": [
    "$$\\sum_{j=1}^{n} x_{0jk} = 1\\quad\\forall 1 \\leq k \\leq m $$"
   ]
  },
  {
   "cell_type": "markdown",
   "metadata": {},
   "source": [
    "$$\\sum_{i=1}^{n} x_{i0k} = 1\\quad\\forall 1 \\leq k \\leq m $$"
   ]
  },
  {
   "cell_type": "markdown",
   "metadata": {},
   "source": [
    "Ces contraintes assurent que chaque tournée commence et se termine au dépôt. En effet, dans un premier temps, nous indiquons que tout camion doit accéder à un sommet depuis le sommet 0, et dans un second temps que tout camion doit pouvoir revenir depuis un sommet au sommet 0."
   ]
  },
  {
   "cell_type": "markdown",
   "metadata": {},
   "source": [
    "$$\\sum_{i=1}^{n}\\sum_{j=1}^{n}x_{ijk}q_i \\leq Q\\quad\\forall 1 \\leq k \\leq m$$"
   ]
  },
  {
   "cell_type": "markdown",
   "metadata": {},
   "source": [
    "Cette contrainte concerne la capacité des camions. En effet pour chaque camion, la somme des demandes des clients visités doit au maximum être égal à la capacité du camion."
   ]
  },
  {
   "cell_type": "markdown",
   "metadata": {},
   "source": [
    "$$x_{ijk} \\in \\{0,1\\}\\quad\\forall 0 \\leq i,j\\leq n;\\quad1 \\leq k \\leq m$$"
   ]
  },
  {
   "cell_type": "markdown",
   "metadata": {},
   "source": [
    "Cette dernière contrainte est une contrainte de binarité. En effet, nous indiquons que $x_{ijk}$ ne peut être égal qu'à 0 ou 1 pour tout $i$ et $j$ compris entre 0 et le nombre de sommet et pour tout $k$ compris entre 1 et le nombre maximum de camion."
   ]
  },
  {
   "cell_type": "markdown",
   "metadata": {},
   "source": [
    "### 1.3 Etude de complexité du problème <a class=\"anchor\" id=\"etude_complexite\"></a>"
   ]
  },
  {
   "cell_type": "markdown",
   "metadata": {},
   "source": [
    "Le problème de VRP étant la représentation de base de notre problème fait partie des 21 problèmes NP- complet de Karp. Ce sont 21 problèmes réputés difficiles de combinatoire et de théorie des graphes qui sont réductibles entre eux. \n",
    "C'est ce qu'a démontré Richard Karp en 1972 dans son article *Reducibility Among Combinatorial Problems*, de même que leur NP-complétude.\n",
    "\n",
    " \n",
    "\n",
    "Aucun algorithme ne peut actuellement résoudre de façon exacte (dans un temps raisonable) ce problème, en effet il faudrait jusqu'à plusieurs siècles de calcul pour obtenir un résultat exact. \n",
    "\n",
    "La seule manière, très fastidieuse, pour trouver la solution optimale est de parcourir tous les chemins possibles. Pour n villes nous auront donc n! chemins possibles, ce qui correspond à une complexité asymptotique O(n!).\n",
    "Pour 10 villes nous aurons donc 3.6.10^6 possibilités, 9.332622e+157 pour 100 villes or nous savons que notre problème concerne des milliers de villes, nous avons donc une complexité exponentielle.\n",
    "\n",
    " \n",
    "\n",
    "Il nous faut trouver une solution dans des délais raisonnables. C'est pourquoi dans la suite nous n'allons pas chercher à trouver une solution exacte mais plutôt une solution approchée de celle-ci."
   ]
  },
  {
   "cell_type": "markdown",
   "metadata": {},
   "source": [
    "## 2. Modélisation algorithmique <a class=\"anchor\" id=\"modelisation_algo\"></a>"
   ]
  },
  {
   "cell_type": "markdown",
   "metadata": {},
   "source": [
    "### 2.1. La description de l’algorithme utilisé (la métaheuristique choisie et la modélisation du problème selon le formalisme de cette métaheuristique) <a class=\"anchor\" id=\"description_algo\"></a>"
   ]
  },
  {
   "cell_type": "markdown",
   "metadata": {},
   "source": [
    "Notre choix pour la méthode métaheuristique se tourne vers l'algorithme de colonie de fourmis (ACO). \n",
    "En effet les ACO sont plus performants dans les classes de grande taille,  garantissent  une  bonne  diversification  des  solutions proposées et un bon ratio de convergence. De plus les  ACO sont  fortement  recommandés  dans tous les cas  d’optimisation : moyenne à grandes instances, qualité de la solution  finale,  éviter  les  stagnations  et  les  convergences précoces. Ce qui permet d'avoir une qualité de solution optimale. \n",
    "\n",
    "Source: https://www.researchgate.net/publication/275966237_Comparaison_de_l%27optimisation_par_colonies_de_fourmis_et_des_Algorithmes_Genetiques_pour_la_resolution_du_probleme_du_voyageur_de_commerce"
   ]
  },
  {
   "cell_type": "markdown",
   "metadata": {},
   "source": [
    "Son fonctionnement est le suivant :\n",
    "\n",
    "1. Une fourmi parcourt plus ou moins au hasard l'environnement autour de son point de départ.\n",
    "\n",
    "2. Si elle trouve de la nouriture, elle rentre plus ou moins directement à son point de départ, en laissant sur son chemin une piste de phéromones.\n",
    "\n",
    "3. Ces phéromones sont attractives, les fourmis à proximités auront tendance a suivre ces phéromones.\n",
    "\n",
    "4. Si deux chemins sont possibles pour atteindre leur but, la plus courte sera parcouru par plus de fourmis dans un même temps et sera donc renforcée par d'autres phéromones.\n",
    "\n",
    "5. Les phéromones sont volatiles, la longue piste finira donc par disparaitre dans le temps, les fourmis auront donc déterminé la piste la plus courte.\n",
    "\n",
    "Transposons donc ce fonctionnement dans notre cas : \n",
    "\n",
    "\n",
    "Nous utiliserons un ensemble de fourmis qui parcourra un ensemble de chemin parmi ceux possibles afin de déterminer une solution quasi optimale à notre problème.\n",
    "\n",
    "Chaque fourmi va donc passer d'une ville à l'autre de la manière suivante : \n",
    "\n",
    "- elle ne peut visiter qu'une fois chaque ville\n",
    "- si une ville est loin par rapport à une autre, elle a moins de chance d'être choisie\n",
    "- plus le chemin entre deux villes a de phéromones, plus il a de chance d'être choisi\n",
    "- Lorsque la fourmi a fini son chemin, elle le fait en sens inverse en y déposant des phéromones\n",
    "- Chaque itération de notre algorithme fait disparaitre des phéromones."
   ]
  },
  {
   "cell_type": "markdown",
   "metadata": {},
   "source": [
    "### 2.2 Implémentation du modèle en Python  <a class=\"anchor\" id=\"implement_modele\"></a>"
   ]
  },
  {
   "cell_type": "markdown",
   "metadata": {},
   "source": [
    "Voici les différentes structures que nous devrons mettre en place pour notre modélisation en Python : \n",
    "\n",
    "Pour modéliser notre problème nous devons générer : \n",
    "\n",
    "* Une matrice d'adjacence représentant le poids (trafic) entre chaque ville\n",
    "* Un tableau représentant les trois dimensions de l'objet demandé par chaque ville\n",
    "* Un tableau représentant les capacités de nos camions\n",
    "\n",
    "Pour implémenter l'ACO, nous avons besoin de :\n",
    "\n",
    "* Une matrice représentant les phéromones\n",
    "* Fourmis virtuelles utilisées pour trouver le chemin le plus proche du chemin optimal"
   ]
  },
  {
   "cell_type": "markdown",
   "metadata": {},
   "source": [
    "### 2.2.1 Génération aléatoire des données <a class=\"anchor\" id=\"generation_donnees\"></a>"
   ]
  },
  {
   "cell_type": "markdown",
   "metadata": {},
   "source": [
    "Pour tester notre algorithme, nous avons besoin d'un jeu de données (Dataset). Le code ci-dessous nous permettra de le générer aléatoirement :"
   ]
  },
  {
   "cell_type": "markdown",
   "metadata": {},
   "source": [
    "#### Import des modules"
   ]
  },
  {
   "cell_type": "code",
   "execution_count": 1,
   "metadata": {},
   "outputs": [],
   "source": [
    "from statistics import mean\n",
    "import matplotlib.pyplot as plt\n",
    "import os\n",
    "from datetime import datetime\n",
    "from sklearn import linear_model\n",
    "from itertools import chain\n",
    "import random\n",
    "import string\n",
    "import numpy as np\n",
    "import pprint\n",
    "import json\n",
    "from ipywidgets import IntProgress\n",
    "from IPython.display import display"
   ]
  },
  {
   "cell_type": "code",
   "execution_count": 2,
   "metadata": {
    "scrolled": false
   },
   "outputs": [],
   "source": [
    "def create_city():\n",
    "    \"\"\"Générer une chaîne aléatoire de longueur fixe\"\"\"\n",
    "    str = string.ascii_lowercase\n",
    "    length = random.randint(2, 10)\n",
    "    return ''.join(random.choice(str) for i in range(length))\n",
    "\n",
    "def create_matrix(lenght = 50, low = 1, high = 50):\n",
    "    matrix = np.random.randint(low, high, size = (lenght, lenght))\n",
    "    for i in range(len(matrix)):\n",
    "        matrix[i][i] = 0\n",
    "    return matrix\n",
    "\n",
    "def create_object(dimension_max = 3):\n",
    "    \"\"\"Générer un ensemble d'objets d'une taille aléatoire à trois dimensions\"\"\"\n",
    "    \n",
    "    dimensions = [random.randint(1, dimension_max) for j in range(3)]\n",
    "        \n",
    "    return dimensions\n",
    "\n",
    "def create_graphe():\n",
    "    matrix = create_matrix().tolist()\n",
    "    graphe = {}\n",
    "    \n",
    "    graphe = {matrix.index(i) + 1: {\"ville\" : create_city(), \"poids\" : i, \"demande\" : create_object()} for i in matrix}\n",
    "    return graphe\n",
    "\n",
    "with open('matrix.json', 'w') as f:\n",
    "    json.dump(create_graphe(), f, indent=4)"
   ]
  },
  {
   "cell_type": "markdown",
   "metadata": {},
   "source": [
    "## 3. Implémentation algorithme ACO <a class=\"anchor\" id=\"implement_algo\"></a>"
   ]
  },
  {
   "cell_type": "markdown",
   "metadata": {},
   "source": [
    "Déclaration des variables"
   ]
  },
  {
   "cell_type": "code",
   "execution_count": 3,
   "metadata": {},
   "outputs": [],
   "source": [
    "alfa = 1\n",
    "beta = 2\n",
    "ro = .2 #Taux d'évaporation\n",
    "iterations=100\n",
    "ants = 40\n",
    "filename='matrix.json'\n",
    "filedata='data_conv.json'\n",
    "bestSolPerIt = {}"
   ]
  },
  {
   "cell_type": "markdown",
   "metadata": {},
   "source": [
    "Fonction récupérant des données du json pour les utiliser :"
   ]
  },
  {
   "cell_type": "code",
   "execution_count": 4,
   "metadata": {},
   "outputs": [],
   "source": [
    "def generateGraph():\n",
    "    capacityLimit=50 #Encombrement max des camions\n",
    "    depot=1 #Numéro de la ville correspondant au dépot\n",
    "    trucks=3 #Nombre de camion\n",
    "    \n",
    "    #Extraction des données du json\n",
    "    with open(filename) as f:\n",
    "        data = json.load(f)\n",
    "    \n",
    "    demand = [data[str(i+1)][\"demande\"] for i in range(len(data))] #demande relative à chaque ville\n",
    "\n",
    "    graph = [data[str(i+1)][\"poids\"] for i in range(len(data))] #matrice d'adjacence du graphe\n",
    "    edges=np.array(graph)\n",
    "    feromones= np.ones((len(graph), len(graph))) #matrice de feromones du graphe\n",
    "    for i in range(len(graph)):\n",
    "        feromones[i][i]=0\n",
    "    \n",
    "    vertices=[i for i in range(1, len(graph) + 1)] #liste des villes\n",
    "    vertices.remove(depot) #On ne considère pas le dépot dans la recherche\n",
    "    \n",
    "    return vertices, feromones, edges, capacityLimit, demand, depot, trucks"
   ]
  },
  {
   "cell_type": "markdown",
   "metadata": {},
   "source": [
    "Fonction déterminant le chemin emprunté par chaque fourmi :"
   ]
  },
  {
   "cell_type": "code",
   "execution_count": 5,
   "metadata": {},
   "outputs": [],
   "source": [
    "def solutionOfOneAnt(vertices, edges, capacityLimit, demand, feromones, depot):\n",
    "    solution = list() #Liste des tournées\n",
    "    \n",
    "    #Tant que toutes les villes n'ont pas été ajoutées à la solution\n",
    "    while(len(vertices)!=0):\n",
    "        path=list() #Chemin d'une tournée\n",
    "        city=depot #Début de la tournée au dépôt\n",
    "        capacity=capacityLimit #Initialisation de la capicité du camion sur la tournée\n",
    "        path.append(city) #Ajout du point de départ à la tournée\n",
    "        \n",
    "        #Tant que toutes les villes n'ont pas été ajoutées à la solution\n",
    "        while(len(vertices)!=0):\n",
    "            probabilities = list(map(lambda x: ((feromones[city-1][x-1])**alfa)*((1/edges[city-1][x-1])**beta), vertices)) #Liste des probabilités pour chaque arrête disponibles\n",
    "            probabilities = probabilities/np.sum(probabilities)\n",
    "            city = np.random.choice(vertices, p=probabilities) #Choix de la ville\n",
    "            capacity = capacity - np.prod(demand[city-1]) #Diminution de la capacité du camion en fonction de la demande de la ville\n",
    "    \n",
    "            #Si la capacité est toujours positive on ajoute la ville\n",
    "            if(capacity>0):\n",
    "                path.append(city)\n",
    "                vertices.remove(city)\n",
    "            #Sinon fin de tournée\n",
    "            else:\n",
    "                break\n",
    "        path.append(depot) #Retour au dépot à la fin de la tournée\n",
    "        solution.append(path) #Ajout de la tournée à la solution complète\n",
    "    return solution"
   ]
  },
  {
   "cell_type": "markdown",
   "metadata": {},
   "source": [
    "Fonction retournant le coût total d'une solution :"
   ]
  },
  {
   "cell_type": "code",
   "execution_count": 6,
   "metadata": {},
   "outputs": [],
   "source": [
    "def rateSolution(solution, edges, depot):\n",
    "    cost = 0 #initialisation du coût de la solution\n",
    "\n",
    "    #Pour chaque tournée de la solution\n",
    "    for i in solution:\n",
    "        #Pour chaque ville de la tournée\n",
    "        for j in i:\n",
    "            a=j #Prend la valeur de la ville courante\n",
    "            b = i[i.index(j)+1] #Prend la valeur de la ville visitée ensuite\n",
    "            cost = cost + edges[a-1,b-1] #On ajoute au coût le coût de l'arête entre a et b\n",
    "            \n",
    "            if b==depot: #Si la prochaine ville est le dépot, on sort de la boucle pour passer à la tournée suivante\n",
    "                break\n",
    "    return cost"
   ]
  },
  {
   "cell_type": "markdown",
   "metadata": {},
   "source": [
    "Fonction permettant d'actualiser le taux de féromones à chaque itération :"
   ]
  },
  {
   "cell_type": "code",
   "execution_count": 7,
   "metadata": {},
   "outputs": [],
   "source": [
    "def updateFeromones(feromones, solutions):\n",
    "    count=0\n",
    "    feromones = feromones*(1-ro) #On applique l'évaporation sur toutes les valeurs de la matrice de phéromones\n",
    "    #Pour chaque solution\n",
    "    for i in solutions:\n",
    "        length=i[1] #On récupère la longueur de la solution\n",
    "        #Pour chaque tournée\n",
    "        for j in range(len(solutions[count][0])):\n",
    "            #Pour chaque ville\n",
    "            for k in range(len(solutions[count][0][j])-1):\n",
    "                a=solutions[count][0][j][k] #valeur de la ville actuelle\n",
    "                b=solutions[count][0][j][k+1] #valeur de la ville suivante\n",
    "                feromones[a-1][b-1]=feromones[a-1][b-1]+1/length #On dépose les féromones sur l'arête entre a et b\n",
    "        count+=1 #Compteur du numéro de la solution traitée\n",
    " \n",
    "    return feromones"
   ]
  },
  {
   "cell_type": "markdown",
   "metadata": {},
   "source": [
    "Fonction qui retourne le meilleur chemin, son coût parmis un ensemble de solutions et le coût de chacune de ses tournées :"
   ]
  },
  {
   "cell_type": "code",
   "execution_count": 8,
   "metadata": {},
   "outputs": [],
   "source": [
    "def getBestSolution(solutions):\n",
    "    bestIndex=0 #On initialise le meilleur index\n",
    "    bestRate=solutions[bestIndex][1] #On initialise le meilleur coût\n",
    "    \n",
    "    #Pour chaque solution\n",
    "    for i in range(1, len(solutions)):\n",
    "        #Si le coût de la solution est inférieur au coût de la meilleure solution\n",
    "        if solutions[i][1]<bestRate:\n",
    "            bestIndex=i #bestIndex prend la nouvelle valeur\n",
    "            bestRate=solutions[bestIndex][1] #bestRate prend la nouvelle valeur\n",
    "    bestSolution=solutions[bestIndex][0]\n",
    "    \n",
    "    return bestSolution, bestRate"
   ]
  },
  {
   "cell_type": "markdown",
   "metadata": {},
   "source": [
    "Fonction qui permet de retourner le poids de chaque tournée d'une solution :"
   ]
  },
  {
   "cell_type": "code",
   "execution_count": 9,
   "metadata": {},
   "outputs": [],
   "source": [
    "def rateTour(solution):\n",
    "    tours=list() #Liste contenant toutes les tournées et leur coût respectif de la solution\n",
    "    #Pour chaque tournée\n",
    "    for i in range(len(solution)):\n",
    "        cost=0\n",
    "        #Pour chaque ville\n",
    "        for j in range(len(solution[i])):\n",
    "            a = solution[i][j] #Prend la valeur de la ville courante\n",
    "            b = solution[i][j+1] #Prend la valeur de la ville visitée ensuite\n",
    "            cost = cost + edges[a-1,b-1] #On ajoute au coût le coût de l'arête entre a et b\n",
    "            \n",
    "            if b==depot: #Si la prochaine ville est le dépot, on sort de la boucle pour passer à la tournée suivante\n",
    "                break\n",
    "        \n",
    "        tours.append((solution[i], cost))#On ajoute le couple tournée, coût à la liste des tournées de la solution\n",
    "    \n",
    "    return tours"
   ]
  },
  {
   "cell_type": "markdown",
   "metadata": {},
   "source": [
    "Fonction permettant d'associer les tournées aux camions :"
   ]
  },
  {
   "cell_type": "code",
   "execution_count": 10,
   "metadata": {},
   "outputs": [],
   "source": [
    "def toursDivision(detailedCost, trucks):\n",
    "    costPerTour=list() #Liste des coûts des tournées\n",
    "    costPerTruck=list() #Liste qui associe les coûts à chaque camion\n",
    "    tourPerTruck=list() #Liste des tournées associées à chaque camion\n",
    "    Avg=0 #Initialisation de la moyenne du coût par camion\n",
    "\n",
    "\n",
    "    #Pour chaque tournée\n",
    "    for i in range(len(detailedCost)):\n",
    "        Avg=Avg+detailedCost[i][1] #On ajoute le coût de la tournée aux autres coût de tournée pour en faire la moyenne par camion ensuite\n",
    "        costPerTour.append(detailedCost[i][1]) #On récupère le coût de la tournée pour les trier ensuite\n",
    "    Avg=Avg/trucks #On fait la moyenne du coût par camion\n",
    "    \n",
    "    #Pour chaque camion, on créé une sous liste contenant le poids des tournées qui lui seront attribuées et une contenant les tournées\n",
    "    for j in range(trucks):\n",
    "        costPerTruck.append([])\n",
    "        tourPerTruck.append([])\n",
    "        \n",
    "    costPerTour.sort(reverse=True) #On trie la liste des coûts des tournées dans l'ordre décroissant\n",
    "    costPerTruck[0].append(costPerTour[0]) #On affecte la valeur la plus élevée au premier camion\n",
    "    costPerTour.remove(costPerTour[0]) #On retire la valeur la plus élevée de la liste\n",
    "    \n",
    "    #Tant que la liste des coûts n'est pas vide\n",
    "    while len(costPerTour)>0:\n",
    "        currentMin=0 #index du camion qui possède le coût le plus faible\n",
    "        currentMinSum=sum(costPerTruck[currentMin]) #coût le plus faible parmis les camions\n",
    "        \n",
    "        #Pour chaque camion\n",
    "        for k in range(trucks):\n",
    "            #Si le coût du camion est plus faible que le coût actuel\n",
    "            if sum(costPerTruck[k])<currentMinSum:\n",
    "                currentMin=k #currentMin prend la nouvelle valeur\n",
    "                currentMinSum=sum(costPerTruck[currentMin]) #currentMinSum prend la nouvelle valeur\n",
    "        costPerTruck[currentMin].append(costPerTour[0]) #On ajoute le coût au camion avec le plus faible coût\n",
    "        costPerTour.remove(costPerTour[0]) #On retire le coût de la liste des coûts\n",
    "\n",
    "    #Tant que la liste des tournées/coût n'est pas vide\n",
    "    while(len(detailedCost)>0):\n",
    "        #Pour chaque liste de coût des camions\n",
    "        for l in range(len(costPerTruck)):\n",
    "            #Pour chaque coût de la liste\n",
    "            for m in range(len(costPerTruck[l])):\n",
    "                #Pour chaque tournée\n",
    "                for n in range(len(detailedCost)):\n",
    "                    #Si le coût de la tournée du camion est égal au coût de la tournée de la liste détaillée\n",
    "                    if costPerTruck[l][m]==detailedCost[n][1]:\n",
    "                        tourPerTruck[l].append(detailedCost[n]) #La tournée est associée au camion\n",
    "                        detailedCost.remove(detailedCost[n]) #On retire la tournée de la liste détaillée\n",
    "                        break #On passe au prochain coût\n",
    "    \n",
    "    return tourPerTruck"
   ]
  },
  {
   "cell_type": "markdown",
   "metadata": {},
   "source": [
    "Programme principal réalisant le nombre d'itération défini précedement :"
   ]
  },
  {
   "cell_type": "code",
   "execution_count": 11,
   "metadata": {},
   "outputs": [
    {
     "name": "stdout",
     "output_type": "stream",
     "text": [
      "Progression du nombre d'itérations: \n"
     ]
    },
    {
     "data": {
      "application/vnd.jupyter.widget-view+json": {
       "model_id": "9250bbd3fc83401a8b876e1dd8960205",
       "version_major": 2,
       "version_minor": 0
      },
      "text/plain": [
       "IntProgress(value=0)"
      ]
     },
     "metadata": {},
     "output_type": "display_data"
    },
    {
     "name": "stdout",
     "output_type": "stream",
     "text": [
      "--------------------\n",
      "La meilleure solution est composée des tournées suivantes: \n",
      "[1, 13, 22, 9, 42, 10, 37, 5, 7, 1]\n",
      "[1, 20, 34, 35, 11, 14, 25, 50, 43, 1]\n",
      "[1, 31, 17, 23, 45, 38, 1]\n",
      "[1, 18, 27, 39, 40, 2, 47, 1]\n",
      "[1, 3, 46, 19, 6, 1]\n",
      "[1, 36, 29, 26, 4, 1]\n",
      "[1, 24, 12, 30, 32, 21, 1]\n",
      "[1, 28, 8, 44, 33, 16, 48, 15, 1]\n",
      "[1, 49, 41, 1]\n",
      "\n",
      "Le coût de cette solution est de 344. \n",
      "\n",
      "La répartition des tournées par camion est la suivante:\n",
      "Les tournées associées au camion 1 sont: \n",
      "[1, 49, 41, 1] dont le coût est 63.\n",
      "[1, 36, 29, 26, 4, 1] dont le coût est 33.\n",
      "[1, 31, 17, 23, 45, 38, 1] dont le coût est 13.\n",
      "Le coût total des tournées associées au camion 1 est 109. \n",
      "\n",
      "Les tournées associées au camion 2 sont: \n",
      "[1, 18, 27, 39, 40, 2, 47, 1] dont le coût est 56.\n",
      "[1, 20, 34, 35, 11, 14, 25, 50, 43, 1] dont le coût est 35.\n",
      "[1, 24, 12, 30, 32, 21, 1] dont le coût est 31.\n",
      "Le coût total des tournées associées au camion 2 est 122. \n",
      "\n",
      "Les tournées associées au camion 3 sont: \n",
      "[1, 28, 8, 44, 33, 16, 48, 15, 1] dont le coût est 47.\n",
      "[1, 3, 46, 19, 6, 1] dont le coût est 45.\n",
      "[1, 13, 22, 9, 42, 10, 37, 5, 7, 1] dont le coût est 21.\n",
      "Le coût total des tournées associées au camion 3 est 113. \n",
      "\n"
     ]
    }
   ],
   "source": [
    "vertices, feromones, edges, capacityLimit, demand, depot, trucks = generateGraph()\n",
    "date=datetime.now()\n",
    "bestRate=-1\n",
    "\n",
    "print('Progression du nombre d\\'itérations: ')\n",
    "f = IntProgress(min=0, max=iterations) # instancie la barre de progression\n",
    "display(f) # Affiche la barre\n",
    "\n",
    "#Pour chaque itération\n",
    "for i in range(iterations):\n",
    "    solutions = list() #Liste contenant l'ensemble des solutions de l'itération\n",
    "    \n",
    "    #Pour chaque fourmi\n",
    "    for j in range(ants):\n",
    "        solution = solutionOfOneAnt(vertices.copy(), edges, capacityLimit, demand, feromones, depot) #On récupère la solution d'une fourmi\n",
    "        solutions.append((solution, rateSolution(solution, edges, depot))) #On ajoute la solution et son poids à la liste des solutions\n",
    "    \n",
    "    feromones=updateFeromones(feromones, solutions) #On modifie le taux de pheromones\n",
    "    bestCurSol,bestCurRate = getBestSolution(solutions) #Récupération de la meilleure solution de l'itération\n",
    "    if bestCurRate<bestRate or bestRate<0:\n",
    "        bestRate=bestCurRate #Récupération de la meilleure solution\n",
    "        bestSolution=bestCurSol #Récupération du meilleur coût\n",
    "    bestSolPerIt.update({i: {\"Temps\": float((datetime.now()-date).total_seconds()), \"Cout\": int(bestCurRate)}}) #Ajout des données au tableau\n",
    "    \n",
    "    f.value= i+1 #Augmente la barre de progression\n",
    "    \n",
    "\n",
    "detailedCost=rateTour(bestSolution) #Coût détaillé des tournées\n",
    "tourPerTruck=toursDivision(detailedCost, trucks) #Liste des tournées associées aux camions\n",
    "\n",
    "#Génération des données au format JSON\n",
    "with open(filedata, 'w') as f:\n",
    "    json.dump(bestSolPerIt, f, indent=4)\n",
    "\n",
    "#Affichage\n",
    "print('--------------------')\n",
    "print(\"La meilleure solution est composée des tournées suivantes: \")\n",
    "for k in range(len(bestSolution)):\n",
    "    print(bestSolution[k])\n",
    "print(\"\\nLe coût de cette solution est de %s. \" %bestRate)\n",
    "print(\"\\nLa répartition des tournées par camion est la suivante:\")\n",
    "for l in range(len(tourPerTruck)):\n",
    "    if len(tourPerTruck[l])!=0:\n",
    "        print(\"Les tournées associées au camion %s sont: \" %str(l+1))\n",
    "        costTruck=0\n",
    "        for m in range(len(tourPerTruck[l])):\n",
    "            print(str(tourPerTruck[l][m][0]) + \" dont le coût est \" + str(tourPerTruck[l][m][1])+ \".\")\n",
    "            costTruck=costTruck+tourPerTruck[l][m][1]\n",
    "        print(\"Le coût total des tournées associées au camion %s est %s. \\n\" %(str(l+1), str(costTruck)))"
   ]
  },
  {
   "cell_type": "markdown",
   "metadata": {},
   "source": [
    "## 4. Analyse prédictive du trafic routier <a class=\"anchor\" id=\"analyse_predictive\"></a>"
   ]
  },
  {
   "cell_type": "markdown",
   "metadata": {},
   "source": [
    "Pour plus de détails à propos de l'analyse prédictive, cliquez <a href=\"../Analyse_Predictive/Analyse_predictive.ipynb\">ici</a>"
   ]
  },
  {
   "cell_type": "markdown",
   "metadata": {},
   "source": [
    "En établissant une régression linéaire sur plusieurs modèles, il s'avère que notre modèle linéaire est viable sur l'ensemble des données du trafic que nous avons dans notre base de données. \n",
    "Ce qui signifie qu'il est possible de prédire la densité du trafic sur chaque arête en matinée ainsi qu'en soirée. \n",
    "\n",
    "Nous avons créé une collection dans notre base de données (*trafic_collection*), qui pour chaque arête nous affichera le trafic moyen en matinée ainsi qu'en soirée.\n",
    "\n",
    "Par conséquent, il sera possible d'affecter des poids à chaque arête en fonction de la période de la journée et de générer une matrice d'adjacence en fonction et de l'intégrer à notre algorithme pour trouver les tournées optimales."
   ]
  },
  {
   "cell_type": "markdown",
   "metadata": {},
   "source": [
    "## 5. Étude statistique <a class=\"anchor\" id=\"etude_stat\"></a>"
   ]
  },
  {
   "cell_type": "markdown",
   "metadata": {},
   "source": [
    "### 5.1 Statistiques descriptives <a class=\"anchor\" id=\"stat_descriptive\"></a>"
   ]
  },
  {
   "cell_type": "markdown",
   "metadata": {},
   "source": [
    "### 5.1.1 Statistiques du coût des routes <a class=\"anchor\" id=\"stats_cout\"></a>"
   ]
  },
  {
   "cell_type": "markdown",
   "metadata": {},
   "source": [
    "#### Récupération de la matrice d'adjacence"
   ]
  },
  {
   "cell_type": "code",
   "execution_count": 12,
   "metadata": {},
   "outputs": [
    {
     "name": "stdout",
     "output_type": "stream",
     "text": [
      "array([[ 0, 17, 15, ..., 19, 23, 37],\n",
      "       [32,  0, 12, ..., 19, 41, 20],\n",
      "       [40,  9,  0, ..., 39, 28, 13],\n",
      "       ...,\n",
      "       [39, 14, 27, ...,  0, 43, 20],\n",
      "       [15, 26, 49, ..., 16,  0, 20],\n",
      "       [ 2, 48, 20, ..., 13, 44,  0]])\n"
     ]
    }
   ],
   "source": [
    "with open('matrix.json') as f:\n",
    "    data = json.load(f)\n",
    "    \n",
    "roads_weights = [data[str(i+1)][\"poids\"] for i in range(len(data))]\n",
    "    \n",
    "roads_weights = np.array(roads_weights)\n",
    "\n",
    "pprint.pprint(roads_weights)"
   ]
  },
  {
   "cell_type": "markdown",
   "metadata": {},
   "source": [
    "#### Moyenne du coût des routes "
   ]
  },
  {
   "cell_type": "code",
   "execution_count": 13,
   "metadata": {},
   "outputs": [
    {
     "name": "stdout",
     "output_type": "stream",
     "text": [
      "La moyenne des coûts des routes est de 24.645714285714284\n"
     ]
    }
   ],
   "source": [
    "sum_weight = [j for i in roads_weights for j in i if j != 0]\n",
    "            \n",
    "print(\"La moyenne des coûts des routes est de %s\" % (np.array(sum_weight).mean()))"
   ]
  },
  {
   "cell_type": "markdown",
   "metadata": {},
   "source": [
    "#### Maximum et Minimum du coût des routes "
   ]
  },
  {
   "cell_type": "code",
   "execution_count": 14,
   "metadata": {},
   "outputs": [
    {
     "name": "stdout",
     "output_type": "stream",
     "text": [
      "La valeur maximale pour le coût des routes est : 49\n",
      "La valeur minimale pour le coût des routes est : 1\n",
      "L'étendue de cette valeur est donc de 48\n"
     ]
    }
   ],
   "source": [
    "maximumCoutRoute = max(sum_weight)\n",
    "print(\"La valeur maximale pour le coût des routes est : %s\" % maximumCoutRoute)\n",
    "minimumCoutRoute = min(sum_weight)\n",
    "print(\"La valeur minimale pour le coût des routes est : %s\" % minimumCoutRoute)\n",
    "etendueCoutRoute = maximumCoutRoute - minimumCoutRoute\n",
    "print(\"L'étendue de cette valeur est donc de %s\" % etendueCoutRoute)"
   ]
  },
  {
   "cell_type": "markdown",
   "metadata": {},
   "source": [
    "#### Médiane du coût des routes"
   ]
  },
  {
   "cell_type": "code",
   "execution_count": 15,
   "metadata": {},
   "outputs": [
    {
     "name": "stdout",
     "output_type": "stream",
     "text": [
      "La valeur médiane pour le coût des routes est : 24.0\n"
     ]
    }
   ],
   "source": [
    "medianeCout = np.median(np.array(sum_weight))\n",
    "print(\"La valeur médiane pour le coût des routes est : %s\" % medianeCout)"
   ]
  },
  {
   "cell_type": "markdown",
   "metadata": {},
   "source": [
    "#### Boite à moustache du coût des routes"
   ]
  },
  {
   "cell_type": "code",
   "execution_count": 16,
   "metadata": {},
   "outputs": [
    {
     "data": {
      "image/png": "[encoded data removed]",
      "text/plain": [
       "<Figure size 432x288 with 1 Axes>"
      ]
     },
     "metadata": {
      "needs_background": "light"
     },
     "output_type": "display_data"
    }
   ],
   "source": [
    "boxplotElements = plt.boxplot(sum_weight)\n",
    "plt.title(\"Boîte à Moustache : Coût des routes\")\n",
    "plt.gca().xaxis.set_ticklabels(['Coût des Routes'])\n",
    "for element in boxplotElements['medians']:\n",
    "    element.set_color('red')\n",
    "    element.set_linewidth(4)\n",
    "for element in boxplotElements['boxes']:\n",
    "    element.set_linewidth(3)\n",
    "for element in boxplotElements['whiskers']:\n",
    "    element.set_linewidth(2)\n",
    "for element in boxplotElements['caps']:\n",
    "    element.set_color('blue')\n",
    "    element.set_linewidth(3)\n",
    "plt.ylim(minimumCoutRoute-1, maximumCoutRoute+1)\n",
    "plt.savefig('BoxPlotCout.png')\n",
    "plt.show()"
   ]
  },
  {
   "cell_type": "markdown",
   "metadata": {},
   "source": [
    "### 5.1.2 Statistiques des demandes des clients <a class=\"anchor\" id=\"stats_demandes\"></a>"
   ]
  },
  {
   "cell_type": "markdown",
   "metadata": {},
   "source": [
    "#### Récupération des données de commandes"
   ]
  },
  {
   "cell_type": "code",
   "execution_count": 17,
   "metadata": {
    "scrolled": true
   },
   "outputs": [],
   "source": [
    "with open('matrix.json') as f:\n",
    "    data = json.load(f)\n",
    "    \n",
    "orders = [data[str(i+1)][\"demande\"] for i in range(len(data))]\n",
    "    \n",
    "orders = np.array(orders)\n"
   ]
  },
  {
   "cell_type": "markdown",
   "metadata": {},
   "source": [
    "#### Moyenne du volume des demandes clients"
   ]
  },
  {
   "cell_type": "code",
   "execution_count": 18,
   "metadata": {},
   "outputs": [
    {
     "name": "stdout",
     "output_type": "stream",
     "text": [
      "[6, 12, 6, 9, 6, 2, 12, 6, 2, 6, 12, 4, 6, 3, 4, 4, 3, 3, 27, 9, 6, 6, 27, 6, 3, 9, 3, 18, 18, 27, 12, 6, 4, 6, 6, 9, 9, 3, 12, 9, 18, 2, 1, 4, 2, 9, 2, 2, 6, 6]\n",
      "Le volume moyen des demandes des clients est de 7.86\n"
     ]
    }
   ],
   "source": [
    "sum_orders = [np.prod(i) for i in orders]\n",
    "print(sum_orders)\n",
    "\n",
    "print(\"Le volume moyen des demandes des clients est de %s\" % (np.array(sum_orders).mean()))"
   ]
  },
  {
   "cell_type": "markdown",
   "metadata": {},
   "source": [
    "#### Maximum et Minimum des demandes clients"
   ]
  },
  {
   "cell_type": "code",
   "execution_count": 19,
   "metadata": {},
   "outputs": [
    {
     "name": "stdout",
     "output_type": "stream",
     "text": [
      "La valeur maximale pour la demande des clients est : 27\n",
      "La valeur minimale pour la demande des clients est : 1\n",
      "L'étendue de cette valeur est donc de 26\n"
     ]
    }
   ],
   "source": [
    "maximumDemande = max(sum_orders)\n",
    "print(\"La valeur maximale pour la demande des clients est : %s\" % maximumDemande)\n",
    "minimumDemande = min(sum_orders)\n",
    "print(\"La valeur minimale pour la demande des clients est : %s\" % minimumDemande)\n",
    "etendueDemande = maximumDemande - minimumDemande\n",
    "print(\"L'étendue de cette valeur est donc de %s\" % etendueDemande)"
   ]
  },
  {
   "cell_type": "markdown",
   "metadata": {},
   "source": [
    "#### Médiane des demandes clients"
   ]
  },
  {
   "cell_type": "code",
   "execution_count": 20,
   "metadata": {},
   "outputs": [
    {
     "name": "stdout",
     "output_type": "stream",
     "text": [
      "La valeur médiane pour la demande des clients est : 6.0\n"
     ]
    }
   ],
   "source": [
    "medianeCout = np.median(np.array(sum_orders))\n",
    "print(\"La valeur médiane pour la demande des clients est : %s\" % medianeCout)"
   ]
  },
  {
   "cell_type": "markdown",
   "metadata": {},
   "source": [
    "#### Boite à Moustache des demandes clients"
   ]
  },
  {
   "cell_type": "code",
   "execution_count": 21,
   "metadata": {},
   "outputs": [
    {
     "data": {
      "image/png": "[encoded data removed]",
      "text/plain": [
       "<Figure size 432x288 with 1 Axes>"
      ]
     },
     "metadata": {
      "needs_background": "light"
     },
     "output_type": "display_data"
    }
   ],
   "source": [
    "boxplotElements = plt.boxplot(sum_orders)\n",
    "plt.title(\"Boîte à Moustache : Demandes des clients\")\n",
    "plt.gca().xaxis.set_ticklabels(['Demandes'])\n",
    "for element in boxplotElements['medians']:\n",
    "    element.set_color('red')\n",
    "    element.set_linewidth(4)\n",
    "for element in boxplotElements['boxes']:\n",
    "    element.set_linewidth(3)\n",
    "for element in boxplotElements['whiskers']:\n",
    "    element.set_linewidth(2)\n",
    "for element in boxplotElements['caps']:\n",
    "    element.set_color('blue')\n",
    "    element.set_linewidth(3)\n",
    "plt.ylim(minimumDemande-1, maximumDemande+1)\n",
    "plt.savefig('BoxPlotDemande.png')\n",
    "plt.show()"
   ]
  },
  {
   "cell_type": "markdown",
   "metadata": {},
   "source": [
    "### 5.2 Etude des paramètres <a class=\"anchor\" id=\"etude_param\"></a>"
   ]
  },
  {
   "cell_type": "markdown",
   "metadata": {},
   "source": [
    "### 5.2.1 Paramètres de l'instance du problème <a class=\"anchor\" id=\"param_instance\"></a>"
   ]
  },
  {
   "cell_type": "markdown",
   "metadata": {},
   "source": [
    "Voici l'ensemble des paramètres que nous pouvons faire varier pour modifier l'instance du problème : \n",
    "\n",
    "* Le nombre de camions :\n",
    "\n",
    "Plus nous disposons de camions, mieux les tournées pourront être réparties. La somme totale des durées de tournée pour chaque camion sera donc réduite, ainsi l'heure de retour du dernier camion sera par conséquent minimisée.\n",
    "\n",
    "* Le nombre de villes : \n",
    "\n",
    "Plus nous aurons de villes, plus la sommme des demandes client augmentera, ce qui engendrera indirectement une hausse du nombre de tournée à effectuer.\n",
    "\n",
    "* La capacité des véhicules :\n",
    "\n",
    "Plus la capacité des camions sera importante, plus elevé sera le nombre de clients desservis. De ce fait la taille des tournées sera allongée, ainsi leur nombre sera minimisé."
   ]
  },
  {
   "cell_type": "markdown",
   "metadata": {},
   "source": [
    "### 5.2.2 Paramètres de l'algorithme <a class=\"anchor\" id=\"param_algo\"></a>"
   ]
  },
  {
   "cell_type": "markdown",
   "metadata": {},
   "source": [
    "Analysons à présent les différents paramètres agissant sur les performances de l'algorithme :\n",
    "\n",
    "* Le nombre de fourmis : \n",
    "\n",
    "Plus le nombre de fourmis est grand, plus il y a de phéromones déposées à chaque itération et le nombre de chemins différents empruntés augmentera. \n",
    "\n",
    "* Le nombre d'itération : \n",
    "\n",
    "Il devra toujours être supérieur au nombre de fourmis, pour que les résultats aient le temps de converger vers la solution la plus proche de l'optimal.\n",
    "Plus le nombre d'itération est grand, plus la somme des coûts minimale trouvée sera proche de la solution otpimale.\n",
    "\n",
    "* Le taux de d'évaporation des phéromones :\n",
    "\n",
    "Il aura un impact sur l'ensemble des phéromones, c'est-à-dire qu'à chaque itération le taux de phéromone diminuera plus ou moins fortement en fonction de la valeur de ce taux.\n",
    "Ce mécanisme permet d'oublier lentement ce qui s'est passé précédemment et permet donc de diriger la recherche vers de nouvelles directions, sans être trop contraint par les précédents choix.\n",
    "\n",
    "* Les constantes alpha et beta : \n",
    "\n",
    "Ces constantes vont décrire l'importance de la visibilité (beta) et des phéromones (alpha) dans le choix d'une route."
   ]
  },
  {
   "cell_type": "code",
   "execution_count": 22,
   "metadata": {},
   "outputs": [
    {
     "data": {
      "image/png": "[encoded data removed]",
      "text/plain": [
       "<Figure size 432x288 with 1 Axes>"
      ]
     },
     "metadata": {
      "needs_background": "light"
     },
     "output_type": "display_data"
    }
   ],
   "source": [
    "with open(\"data_conv.json\") as f:\n",
    "        data = json.load(f)\n",
    "        \n",
    "x = [i[\"Temps\"] for i in data.values()]\n",
    "y = [i[\"Cout\"] for i in data.values()]\n",
    "\n",
    "plt.xlabel(\"Temps (secondes)\")\n",
    "plt.ylabel(\"Coûts\")\n",
    "\n",
    "plt.plot(x, y)\n",
    "\n",
    "plt.savefig('CourbeConvergence.png')\n",
    "\n",
    "plt.show() # affiche la figure à l'écran"
   ]
  },
  {
   "cell_type": "markdown",
   "metadata": {},
   "source": [
    "## 6. Analyse des résultats <a class=\"anchor\" id=\"analyse_result\"></a>"
   ]
  },
  {
   "cell_type": "markdown",
   "metadata": {},
   "source": [
    "### 6.1. Performance de l'algorithme <a class=\"anchor\" id=\"perform_algo\"></a>"
   ]
  },
  {
   "cell_type": "markdown",
   "metadata": {},
   "source": [
    "Suite à de nombreux tests, nous nous sommes rendus compte de l'importance de chacun des paramètres. \n",
    "\n",
    "Voici trois courbes représentant l'évolution du temps de traitement de l'algorithme en modifiant les paramètres suivants, indépendemment des autres : nombre de villes (10,20,30,40,50), nombre de fourmis (20,40,60,80,100) et nombre d'itérations (100,200,300,400,500) :\n",
    "\n",
    "![title](img/nbVille.png)\n",
    "![title](img/nbFourmi.png)\n",
    "![title](img/nbIteration.png)\n",
    "\n",
    "D'après ces courbes, nous constatons que l'augmentation du nombre de fourmis ou du nombre d'itérations fait augmenter le temps d'execution de manière linéaire. Cependant concernant l'augmentation du nombre de villes, celle-ci fait augmenter notre temps d'execution de manière quadratique."
   ]
  },
  {
   "cell_type": "markdown",
   "metadata": {},
   "source": [
    "### 6.2. Temps de convergence / nombre d'itérations <a class=\"anchor\" id=\"temps_convergence\"></a>"
   ]
  },
  {
   "cell_type": "markdown",
   "metadata": {},
   "source": [
    "Nous avons réalisés tests avec des paramètres différents. Voici les courbes de convergences obtenues : \n",
    "\n",
    "![title](img/convergence1.png)\n",
    "![title](img/convergence2.png)\n",
    "![title](img/convergence3.png)\n",
    "    \n",
    "Comme nous l'avions supposé lors du choix de l'algorithme, nous pouvons constater une convergence rapide pour chacun de ces tests. En effet, on observe une courbe dont l'allure diminue abruptement, pour rapidement se stabiliser par la suite.\n",
    "On peut en conclure qu'il nous faudra qu'un petit nombre d'itération pour avoir une solution s'approchant de la solution optimale, néanmoins il est possible que l'on trouve une valeur plus optimale encore, mais le nombre d'itération pour l'intteindre peut rapidement devenir très grand. "
   ]
  },
  {
   "cell_type": "markdown",
   "metadata": {},
   "source": [
    "## 7. Limites <a class=\"anchor\" id=\"limites\"></a>"
   ]
  },
  {
   "cell_type": "markdown",
   "metadata": {},
   "source": [
    "* Le langage python avec cet algorithme connait certaine limite. En effet, ce langage ne permet pas d'avoir des valeurs inférieurs à $10^{-308}$, donc le taux d'évaporation ne peut pas être trop grand si on a un trop grand nombre d'itération. Dans ce cas, le taux de phéromone risque d'être trop faible et de prendre un type NaN.\n",
    "\n",
    "* La puissance de nos ordinateurs, qui peuvent uniquement permettre de réaliser des tests avec des paramètres plutôt faible. Un serveur serait plus adapté pour faire des calculs de cet envergure. \n",
    "\n",
    "* Pour finir, la solution que notre algorithme fournie, n'est qu'une solution approchée de la solution optimale. "
   ]
  },
  {
   "cell_type": "markdown",
   "metadata": {},
   "source": [
    "## 8. Conclusion <a class=\"anchor\" id=\"conclusion\"></a>"
   ]
  },
  {
   "cell_type": "markdown",
   "metadata": {},
   "source": [
    "Pour conclure nous avons apportés une solution pertinente à ce problème, même si cette solution n'est pas la plus optimale, elle s'en approche et permet à l'entreprise de recréer ses tournées.\n",
    "Concernant des instances contenant plusieurs milliers de villes, il faudra quelques heures pour pouvoir fournir une solution. Ces quelques heures sont bien évidemment négligeables face aux siècles nécessaire à la résolution exacte de ce problème.\n",
    "\n",
    "Ceci a été résilable grâce au travail que nous avons fourni aussi bien en période d’apprentissage qu’en période de projet. Le groupe avait une très bonne dynamique globale, et répartition des tâches équitables. Le fait de pouvoir s’occuper d’une partie sans se soucier de la qualité du travail des autres membres du groupe, est d’une importance capitale. Ce projet nous a apporté beaucoup, surtout dans la rigueur du travail, et de ne pas foncer la tête baissée, mais au contraire suivre les différentes étapes, qui dans notre cas étaient respectivement : analyse, choix et étude, implémentation et pour finir par la rédaction."
   ]
  },
  {
   "cell_type": "code",
   "execution_count": null,
   "metadata": {},
   "outputs": [],
   "source": []
  }
 ],
 "metadata": {
  "kernelspec": {
   "display_name": "Python 3",
   "language": "python",
   "name": "python3"
  },
  "language_info": {
   "codemirror_mode": {
    "name": "ipython",
    "version": 3
   },
   "file_extension": ".py",
   "mimetype": "text/x-python",
   "name": "python",
   "nbconvert_exporter": "python",
   "pygments_lexer": "ipython3",
   "version": "3.7.6"
  }
 },
 "nbformat": 4,
 "nbformat_minor": 4
}
