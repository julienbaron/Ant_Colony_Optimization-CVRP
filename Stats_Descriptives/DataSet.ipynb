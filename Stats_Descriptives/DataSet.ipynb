{
 "cells": [
  {
   "cell_type": "markdown",
   "metadata": {},
   "source": [
    "# Statistiques descriptives du DataSet"
   ]
  },
  {
   "cell_type": "markdown",
   "metadata": {},
   "source": [
    "## Table des matières\n",
    "\n",
    "* [Import des modules](#import_modules)\n",
    "* [Fonctions de génération de données aléatoires](#fonction_generation)\n",
    "* [Statistiques du coût des routes](#stat_routes)\n",
    "    * [Récupération de la matrice d'adjacence](#recup_matrice_routes)\n",
    "    * [Moyenne du coût des routes](#moyenne_cout_routes)\n",
    "    * [Maximum et Minimum du coût des routes](#max_min_routes)\n",
    "    * [Médiane du coût des routes](#mediane_routes)\n",
    "    * [Boite à moustache du coût des routes](#boite_moustache_routes)\n",
    "* [Statistiques des demandes des clients](#stats_demandes_clients)\n",
    "    * [Récupération des données de commandes](#recup_matrice_demandes_clients)\n",
    "    * [Moyenne du volume des demandes clients](#moyenne_demandes_clients)\n",
    "    * [Maximum et Minimum des demandes clients](#max_min_demandes_clients)\n",
    "    * [Médiane des demandes clients](#mediane_demandes_clients)\n",
    "    * [Boite à Moustache des demandes clients](#boite_moustache_demandes_clients)"
   ]
  },
  {
   "cell_type": "markdown",
   "metadata": {},
   "source": [
    "## Import des modules <a class=\"anchor\" id=\"import_modules\"></a>"
   ]
  },
  {
   "cell_type": "code",
   "execution_count": 1,
   "metadata": {},
   "outputs": [],
   "source": [
    "from statistics import mean\n",
    "import matplotlib.pyplot as plt\n",
    "import os\n",
    "from datetime import datetime\n",
    "from sklearn import linear_model\n",
    "from itertools import chain\n",
    "import random\n",
    "import string\n",
    "import numpy\n",
    "import pprint\n",
    "import json"
   ]
  },
  {
   "cell_type": "markdown",
   "metadata": {},
   "source": [
    "## Fonctions de génération de données aléatoires <a class=\"anchor\" id=\"fonction_generation\"></a>"
   ]
  },
  {
   "cell_type": "code",
   "execution_count": 2,
   "metadata": {},
   "outputs": [
    {
     "name": "stdout",
     "output_type": "stream",
     "text": [
      "{1: {'demande': [2, 3, 3],\n",
      "     'poids': [0, 7, 2, 5, 4, 1, 5, 6, 3, 3],\n",
      "     'ville': 'im'},\n",
      " 2: {'demande': [3, 1, 1],\n",
      "     'poids': [3, 0, 7, 7, 4, 1, 7, 9, 9, 4],\n",
      "     'ville': 'xvhxvbnr'},\n",
      " 3: {'demande': [3, 1, 3],\n",
      "     'poids': [7, 7, 0, 3, 6, 9, 5, 5, 8, 5],\n",
      "     'ville': 'jbd'},\n",
      " 4: {'demande': [1, 1, 3],\n",
      "     'poids': [3, 7, 2, 0, 8, 8, 8, 1, 2, 1],\n",
      "     'ville': 'eqzjtyyexe'},\n",
      " 5: {'demande': [1, 2, 1],\n",
      "     'poids': [4, 5, 4, 8, 0, 2, 8, 9, 6, 9],\n",
      "     'ville': 'kweynljw'},\n",
      " 6: {'demande': [3, 2, 2],\n",
      "     'poids': [6, 7, 8, 1, 4, 0, 4, 1, 8, 5],\n",
      "     'ville': 'qjoyp'},\n",
      " 7: {'demande': [2, 1, 2],\n",
      "     'poids': [8, 7, 8, 3, 1, 3, 0, 5, 8, 1],\n",
      "     'ville': 'okkje'},\n",
      " 8: {'demande': [1, 2, 3],\n",
      "     'poids': [2, 3, 3, 5, 9, 8, 7, 0, 8, 5],\n",
      "     'ville': 'xdqq'},\n",
      " 9: {'demande': [3, 1, 3],\n",
      "     'poids': [5, 2, 8, 1, 1, 1, 7, 5, 0, 4],\n",
      "     'ville': 'mtanvuh'},\n",
      " 10: {'demande': [2, 1, 3],\n",
      "      'poids': [4, 9, 6, 2, 3, 3, 9, 4, 5, 0],\n",
      "      'ville': 'azmqakouef'}}\n"
     ]
    }
   ],
   "source": [
    "def create_city():\n",
    "    \"\"\"Générer une chaîne aléatoire de longueur fixe\"\"\"\n",
    "    str = string.ascii_lowercase\n",
    "    length = random.randint(2, 10)\n",
    "    return ''.join(random.choice(str) for i in range(length))\n",
    "   \n",
    "#print (\"Ville aléatoire :\", create_city() )\n",
    "\n",
    "def create_matrix(lenght = 10, low = 1, high = 10):\n",
    "    matrix = numpy.random.randint(low, high, size = (lenght, lenght))\n",
    "    for i in range(len(matrix)):\n",
    "        matrix[i][i] = 0\n",
    "    return matrix\n",
    "\n",
    "#print(create_matrix(4, 2, 10))\n",
    "\n",
    "def create_car(nb_camion = 5, dimension_max = 8):\n",
    "    \"\"\"Générer un camion avec une capacité aléatoire à trois dimensions\"\"\"\n",
    "    camions = []\n",
    "    \n",
    "    for i in range(nb_camion):\n",
    "        dimensions = [random.randint(1, dimension_max) for j in range(3)]\n",
    "        camions.append(dimensions)\n",
    "        \n",
    "    return camions\n",
    "\n",
    "def create_object(dimension_max = 3):\n",
    "    \"\"\"Générer un ensemble d'objets d'une taille aléatoire à trois dimensions\"\"\"\n",
    "    \n",
    "    dimensions = [random.randint(1, dimension_max) for j in range(3)]\n",
    "        \n",
    "    return dimensions\n",
    "\n",
    "def create_graphe():\n",
    "    matrix = create_matrix().tolist()\n",
    "    graphe = {}\n",
    "    \n",
    "    graphe = {matrix.index(i) + 1: {\"ville\" : create_city(), \"poids\" : i, \"demande\" : create_object()} for i in matrix}\n",
    "    pprint.pprint(graphe)\n",
    "    return graphe\n",
    "\n",
    "with open('matrix_stats.json', 'w') as f:\n",
    "    json.dump(create_graphe(), f, indent=4)"
   ]
  },
  {
   "cell_type": "markdown",
   "metadata": {},
   "source": [
    "## Statistiques du coût des routes <a class=\"anchor\" id=\"stat_routes\"></a>"
   ]
  },
  {
   "cell_type": "markdown",
   "metadata": {},
   "source": [
    "### Récupération de la matrice d'adjacence <a class=\"anchor\" id=\"recup_matrice_routes\"></a>"
   ]
  },
  {
   "cell_type": "code",
   "execution_count": 3,
   "metadata": {},
   "outputs": [
    {
     "name": "stdout",
     "output_type": "stream",
     "text": [
      "array([[0, 7, 2, 5, 4, 1, 5, 6, 3, 3],\n",
      "       [3, 0, 7, 7, 4, 1, 7, 9, 9, 4],\n",
      "       [7, 7, 0, 3, 6, 9, 5, 5, 8, 5],\n",
      "       [3, 7, 2, 0, 8, 8, 8, 1, 2, 1],\n",
      "       [4, 5, 4, 8, 0, 2, 8, 9, 6, 9],\n",
      "       [6, 7, 8, 1, 4, 0, 4, 1, 8, 5],\n",
      "       [8, 7, 8, 3, 1, 3, 0, 5, 8, 1],\n",
      "       [2, 3, 3, 5, 9, 8, 7, 0, 8, 5],\n",
      "       [5, 2, 8, 1, 1, 1, 7, 5, 0, 4],\n",
      "       [4, 9, 6, 2, 3, 3, 9, 4, 5, 0]])\n"
     ]
    }
   ],
   "source": [
    "with open('matrix_stats.json') as f:\n",
    "    data = json.load(f)\n",
    "    \n",
    "roads_weights = [data[str(i+1)][\"poids\"] for i in range(len(data))]\n",
    "    \n",
    "roads_weights = numpy.array(roads_weights)\n",
    "\n",
    "pprint.pprint(roads_weights)"
   ]
  },
  {
   "cell_type": "markdown",
   "metadata": {},
   "source": [
    "### Moyenne du coût des routes <a class=\"anchor\" id=\"moyenne_cout_routes\"></a>"
   ]
  },
  {
   "cell_type": "code",
   "execution_count": 4,
   "metadata": {},
   "outputs": [
    {
     "name": "stdout",
     "output_type": "stream",
     "text": [
      "La moyenne des coûts des routes est de 5.044444444444444\n"
     ]
    }
   ],
   "source": [
    "sum_weight = [j for i in roads_weights for j in i if j != 0]\n",
    "            \n",
    "print(\"La moyenne des coûts des routes est de %s\" % (numpy.array(sum_weight).mean()))"
   ]
  },
  {
   "cell_type": "markdown",
   "metadata": {},
   "source": [
    "### Maximum et Minimum du coût des routes <a class=\"anchor\" id=\"max_min_routes\"></a>"
   ]
  },
  {
   "cell_type": "code",
   "execution_count": 5,
   "metadata": {},
   "outputs": [
    {
     "name": "stdout",
     "output_type": "stream",
     "text": [
      "La valeur maximale pour le coût des routes est : 9\n",
      "La valeur minimale pour le coût des routes est : 1\n",
      "L'étendue de cette valeur est donc de 8\n"
     ]
    }
   ],
   "source": [
    "maximumCoutRoute = max(sum_weight)\n",
    "print(\"La valeur maximale pour le coût des routes est : %s\" % maximumCoutRoute)\n",
    "minimumCoutRoute = min(sum_weight)\n",
    "print(\"La valeur minimale pour le coût des routes est : %s\" % minimumCoutRoute)\n",
    "etendueCoutRoute = maximumCoutRoute - minimumCoutRoute\n",
    "print(\"L'étendue de cette valeur est donc de %s\" % etendueCoutRoute)"
   ]
  },
  {
   "cell_type": "markdown",
   "metadata": {},
   "source": [
    "### Médiane du coût des routes <a class=\"anchor\" id=\"mediane_routes\"></a>"
   ]
  },
  {
   "cell_type": "code",
   "execution_count": 6,
   "metadata": {},
   "outputs": [
    {
     "name": "stdout",
     "output_type": "stream",
     "text": [
      "La valeur médiane pour le coût des routes est : 5.0\n"
     ]
    }
   ],
   "source": [
    "medianeCout = numpy.median(numpy.array(sum_weight))\n",
    "print(\"La valeur médiane pour le coût des routes est : %s\" % medianeCout)"
   ]
  },
  {
   "cell_type": "markdown",
   "metadata": {},
   "source": [
    "### Boite à moustache du coût des routes <a class=\"anchor\" id=\"boite_moustache_routes\"></a>"
   ]
  },
  {
   "cell_type": "code",
   "execution_count": 7,
   "metadata": {},
   "outputs": [
    {
     "data": {
      "image/png": "[encoded data removed]",
      "text/plain": [
       "<Figure size 432x288 with 1 Axes>"
      ]
     },
     "metadata": {
      "needs_background": "light"
     },
     "output_type": "display_data"
    }
   ],
   "source": [
    "boxplotElements = plt.boxplot(sum_weight)\n",
    "plt.title(\"Boîte à Moustache : Coût des routes\")\n",
    "plt.gca().xaxis.set_ticklabels(['Coût des Routes'])\n",
    "for element in boxplotElements['medians']:\n",
    "    element.set_color('red')\n",
    "    element.set_linewidth(4)\n",
    "for element in boxplotElements['boxes']:\n",
    "    element.set_linewidth(3)\n",
    "for element in boxplotElements['whiskers']:\n",
    "    element.set_linewidth(2)\n",
    "for element in boxplotElements['caps']:\n",
    "    element.set_color('blue')\n",
    "    element.set_linewidth(3)\n",
    "plt.ylim(minimumCoutRoute-1, maximumCoutRoute+1)\n",
    "plt.savefig('BoxPlotCout.png')\n",
    "plt.show()"
   ]
  },
  {
   "cell_type": "markdown",
   "metadata": {},
   "source": [
    "## Statistiques des demandes des clients <a class=\"anchor\" id=\"stats_demandes_clients\"></a>"
   ]
  },
  {
   "cell_type": "markdown",
   "metadata": {},
   "source": [
    "### Récupération des données de commandes <a class=\"anchor\" id=\"recup_matrice_demandes_clients\"></a>"
   ]
  },
  {
   "cell_type": "code",
   "execution_count": 8,
   "metadata": {},
   "outputs": [
    {
     "name": "stdout",
     "output_type": "stream",
     "text": [
      "array([[2, 3, 3],\n",
      "       [3, 1, 1],\n",
      "       [3, 1, 3],\n",
      "       [1, 1, 3],\n",
      "       [1, 2, 1],\n",
      "       [3, 2, 2],\n",
      "       [2, 1, 2],\n",
      "       [1, 2, 3],\n",
      "       [3, 1, 3],\n",
      "       [2, 1, 3]])\n"
     ]
    }
   ],
   "source": [
    "with open('matrix_stats.json') as f:\n",
    "    data = json.load(f)\n",
    "    \n",
    "orders = [data[str(i+1)][\"demande\"] for i in range(len(data))]\n",
    "    \n",
    "orders = numpy.array(orders)\n",
    "\n",
    "pprint.pprint(orders)"
   ]
  },
  {
   "cell_type": "markdown",
   "metadata": {},
   "source": [
    "### Moyenne du volume des demandes clients <a class=\"anchor\" id=\"moyenne_demandes_clients\"></a>"
   ]
  },
  {
   "cell_type": "code",
   "execution_count": 9,
   "metadata": {},
   "outputs": [
    {
     "name": "stdout",
     "output_type": "stream",
     "text": [
      "[18, 3, 9, 3, 2, 12, 4, 6, 9, 6]\n",
      "Le volume moyen des demandes des clients est de 7.2\n"
     ]
    }
   ],
   "source": [
    "sum_orders = [numpy.prod(i) for i in orders]\n",
    "print(sum_orders)\n",
    "\n",
    "print(\"Le volume moyen des demandes des clients est de %s\" % (numpy.array(sum_orders).mean()))"
   ]
  },
  {
   "cell_type": "markdown",
   "metadata": {},
   "source": [
    "### Maximum et Minimum des demandes clients <a class=\"anchor\" id=\"max_min_demandes_clients\"></a>"
   ]
  },
  {
   "cell_type": "code",
   "execution_count": 10,
   "metadata": {},
   "outputs": [
    {
     "name": "stdout",
     "output_type": "stream",
     "text": [
      "La valeur maximale pour la demande des clients est : 18\n",
      "La valeur minimale pour la demande des clients est : 2\n",
      "L'étendue de cette valeur est donc de 16\n"
     ]
    }
   ],
   "source": [
    "maximumDemande = max(sum_orders)\n",
    "print(\"La valeur maximale pour la demande des clients est : %s\" % maximumDemande)\n",
    "minimumDemande = min(sum_orders)\n",
    "print(\"La valeur minimale pour la demande des clients est : %s\" % minimumDemande)\n",
    "etendueDemande = maximumDemande - minimumDemande\n",
    "print(\"L'étendue de cette valeur est donc de %s\" % etendueDemande)"
   ]
  },
  {
   "cell_type": "markdown",
   "metadata": {},
   "source": [
    "### Médiane des demandes clients <a class=\"anchor\" id=\"mediane_demandes_clients\"></a>"
   ]
  },
  {
   "cell_type": "code",
   "execution_count": 11,
   "metadata": {},
   "outputs": [
    {
     "name": "stdout",
     "output_type": "stream",
     "text": [
      "La valeur médiane pour la demande des clients est : 6.0\n"
     ]
    }
   ],
   "source": [
    "medianeCout = numpy.median(numpy.array(sum_orders))\n",
    "print(\"La valeur médiane pour la demande des clients est : %s\" % medianeCout)"
   ]
  },
  {
   "cell_type": "markdown",
   "metadata": {},
   "source": [
    "### Boite à Moustache des demandes clients <a class=\"anchor\" id=\"boite_moustache_demandes_clients\"></a>"
   ]
  },
  {
   "cell_type": "code",
   "execution_count": 12,
   "metadata": {},
   "outputs": [
    {
     "data": {
      "image/png": "[encoded data removed]",
      "text/plain": [
       "<Figure size 432x288 with 1 Axes>"
      ]
     },
     "metadata": {
      "needs_background": "light"
     },
     "output_type": "display_data"
    }
   ],
   "source": [
    "boxplotElements = plt.boxplot(sum_orders)\n",
    "plt.title(\"Boîte à Moustache : Demandes des clients\")\n",
    "plt.gca().xaxis.set_ticklabels(['Demandes'])\n",
    "for element in boxplotElements['medians']:\n",
    "    element.set_color('red')\n",
    "    element.set_linewidth(4)\n",
    "for element in boxplotElements['boxes']:\n",
    "    element.set_linewidth(3)\n",
    "for element in boxplotElements['whiskers']:\n",
    "    element.set_linewidth(2)\n",
    "for element in boxplotElements['caps']:\n",
    "    element.set_color('blue')\n",
    "    element.set_linewidth(3)\n",
    "plt.ylim(minimumDemande-1, maximumDemande+1)\n",
    "plt.savefig('BoxPlotDemande.png')\n",
    "plt.show()"
   ]
  },
  {
   "cell_type": "code",
   "execution_count": null,
   "metadata": {},
   "outputs": [],
   "source": []
  }
 ],
 "metadata": {
  "kernelspec": {
   "display_name": "Python 3",
   "language": "python",
   "name": "python3"
  },
  "language_info": {
   "codemirror_mode": {
    "name": "ipython",
    "version": 3
   },
   "file_extension": ".py",
   "mimetype": "text/x-python",
   "name": "python",
   "nbconvert_exporter": "python",
   "pygments_lexer": "ipython3",
   "version": "3.7.6"
  }
 },
 "nbformat": 4,
 "nbformat_minor": 4
}
